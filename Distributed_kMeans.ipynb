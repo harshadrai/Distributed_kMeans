{
 "cells": [
  {
   "cell_type": "code",
   "execution_count": 362,
   "metadata": {
    "collapsed": false
   },
   "outputs": [],
   "source": [
    "import math\n",
    "import pandas as pd\n",
    "import numpy as np\n",
    "import networkx as nx\n",
    "from sklearn.cluster import KMeans, SpectralClustering\n",
    "from sklearn.metrics.pairwise import euclidean_distances\n",
    "import matplotlib.pyplot as plt\n",
    "%matplotlib inline\n",
    "import warnings\n",
    "warnings.filterwarnings(\"ignore\")"
   ]
  },
  {
   "cell_type": "code",
   "execution_count": 587,
   "metadata": {
    "collapsed": false
   },
   "outputs": [],
   "source": [
    "class Node(object):\n",
    "    def __init__(self,neighbors,degree):\n",
    "        self.neighbors = neighbors\n",
    "        self.degree = degree\n",
    "        self.data = None                       #Holds the local data Pi\n",
    "        self.centers = None                    #Holds the centers Bi\n",
    "        self.local_coreset = None              #To store coreset, i.e. Si U Ai\n",
    "        self.weights = None                    #To store the weight of points in local coreset Si U Ai\n",
    "        self.message_received = {}\n",
    "        self.X = None                          #To store the final centers\n",
    "        self.cost_of_each_data = None\n",
    "    def set_data(self,data):\n",
    "        self.data = data\n",
    "    def set_centers(self,centers):\n",
    "        self.centers = centers\n",
    "    def set_cost_of_each_data(self, c):\n",
    "        self.cost_of_each_data = c\n",
    "    def set_local_coreset(self,S):\n",
    "        self.local_coreset = S\n",
    "    def set_weights(self,weights):\n",
    "        self.weights = weights\n",
    "    def set_X(self,X):\n",
    "        self.X = X\n",
    "        \n",
    "c_cost = np.zeros(8)\n",
    "k_means_cost = np.zeros(8)\n",
    "communication_cost=0."
   ]
  },
  {
   "cell_type": "code",
   "execution_count": 588,
   "metadata": {
    "collapsed": true
   },
   "outputs": [],
   "source": [
    "def create_random_graph(no_of_nodes,probability):\n",
    "    G = nx.erdos_renyi_graph(no_of_nodes,probability)\n",
    "    if nx.is_connected(G):\n",
    "        1\n",
    "    else:\n",
    "        G = create_random_graph(no_of_nodes,probability)\n",
    "    return G\n",
    "\n",
    "def create_preferential_graph(n,m):\n",
    "    # n = number of nodes, m = number of edges\n",
    "    G = nx.generators.random_graphs.barabasi_albert_graph(n,m)\n",
    "    if nx.is_connected(G):\n",
    "        1\n",
    "    else:\n",
    "        G = create_preferential_graph(n,m)\n",
    "    return G\n",
    "\n",
    "def create_grid_graph(n,m):\n",
    "    return nx.grid_2d_graph(n,m)"
   ]
  },
  {
   "cell_type": "code",
   "execution_count": 589,
   "metadata": {
    "collapsed": true
   },
   "outputs": [],
   "source": [
    "#Function to get sequence of iterating the nodes\n",
    "#Returns 'nodes' used in fuction arguements later in message passing\n",
    "def node_sequence(G):\n",
    "    seq=[]\n",
    "    l = list(nx.dfs_edges(G,0))\n",
    "    for i in range(len(l)-1):\n",
    "        if (l[i][1] == l[i+1][0]):\n",
    "            seq.append(l[i][0])\n",
    "        else:\n",
    "            seq.append(l[i][0])\n",
    "            seq.append(l[i][1])\n",
    "            p = nx.shortest_path(G,l[i][1],l[i+1][0])\n",
    "            for k in range(1,len(p)-1):\n",
    "                seq.append(p[k])\n",
    "    seq.append(l[-1][0])\n",
    "    seq.append(l[-1][1])\n",
    "    return seq"
   ]
  },
  {
   "cell_type": "code",
   "execution_count": 590,
   "metadata": {
    "collapsed": true
   },
   "outputs": [],
   "source": [
    "def uniform_partitioning(df,nodes):\n",
    "    temp_df = df.copy(deep=True)\n",
    "    size_of_pi = math.floor(df.shape[0]/len(nodes))\n",
    "    for node in nodes:\n",
    "        if node != nodes[-1]:\n",
    "            node_dict[node].data = temp_df.sample(size_of_pi)\n",
    "            temp_df.drop(node_dict[node].data.index,inplace = True)\n",
    "        else:\n",
    "            node_dict[node].data = temp_df\n",
    "    return\n",
    "            \n",
    "def similarity_partitioning(df,nodes):\n",
    "    temp_df = df.copy(deep=True)\n",
    "    spec=SpectralClustering(n_clusters=len(nodes), gamma=1.0)\n",
    "    c_id = spec.fit_predict(temp_df)\n",
    "    for i in range(len(nodes)):\n",
    "        node_dict[nodes[i]].data = temp_df[c_id==i]      \n",
    "    return\n",
    "\n",
    "def weighted_partitioning(df,nodes):\n",
    "    temp_df = df.copy(deep=True)\n",
    "    s = np.random.normal(0,1, len(nodes))\n",
    "    s = (abs(s)/ np.sum(abs(s)))*temp_df.shape[0]\n",
    "    for i in range(len(nodes)):\n",
    "        if nodes[i] != nodes[-1]:\n",
    "            node_dict[nodes[i]].data = temp_df.sample(int(round(s[i],0)))\n",
    "            temp_df.drop(node_dict[nodes[i]].data.index,inplace = True)\n",
    "        else:\n",
    "            node_dict[nodes[i]].data = temp_df\n",
    "    return\n",
    "\n",
    "def degree_partitioning(df,nodes):\n",
    "    temp_df = df.copy(deep=True)\n",
    "    s=[]\n",
    "    \n",
    "    for node in nodes:\n",
    "        print (G.degree(node))\n",
    "        s.append(float(G.degree(node)))\n",
    "    s = (s/np.sum(s))*temp_df.shape[0]\n",
    "    #s = pd.DataFrame(s)\n",
    "    for i in range(len(nodes)):\n",
    "        if nodes[i] != nodes[-1]:\n",
    "            node_dict[nodes[i]].data = temp_df.sample(round(s[i],0))\n",
    "            temp_df.drop(node_dict[nodes[i]].data.index,inplace = True)\n",
    "        else:\n",
    "            node_dict[nodes[i]].data = temp_df\n",
    "    return"
   ]
  },
  {
   "cell_type": "code",
   "execution_count": 591,
   "metadata": {
    "collapsed": true
   },
   "outputs": [],
   "source": [
    "def clustering_algo( data, no_of_centers ):\n",
    "    kmeans = KMeans(n_clusters=no_of_centers, init = 'random', random_state=0).fit(np.array(data))\n",
    "    #init stands for initialization, i.e. how to get first set of centers. Default is k-means++. I went for random\n",
    "    #random_state stands for the seed to generate random centers in the beginning. Kept it zero to get same centers everytime.\n",
    "    #Remove if not required\n",
    "    #The package uses LLoyd's algorithm\n",
    "    return kmeans                        #this will contain all details about clusters\n"
   ]
  },
  {
   "cell_type": "code",
   "execution_count": 592,
   "metadata": {
    "collapsed": true
   },
   "outputs": [],
   "source": [
    "def Message_Passing(message,neighbors,node):\n",
    "    global communication_cost\n",
    "    if node not in node_dict[node].message_received: \n",
    "        node_dict[node].message_received[node] = message\n",
    "    for neighbor in neighbors:\n",
    "        for i, message in node_dict[node].message_received.items():\n",
    "            if i not in node_dict[neighbor].message_received:\n",
    "                node_dict[neighbor].message_received[i] = message\n",
    "                if type(message) == float:\n",
    "                    communication_cost+=1\n",
    "                else:\n",
    "                    communication_cost += message.shape[0]*message.shape[1]\n",
    "    return"
   ]
  },
  {
   "cell_type": "code",
   "execution_count": 593,
   "metadata": {
    "collapsed": true
   },
   "outputs": [],
   "source": [
    "def get_cost( data, centers):\n",
    "    distanceMatrix = euclidean_distances( data, centers )\n",
    "    return pd.DataFrame(distanceMatrix).min(axis=1)\n",
    "\n",
    "def distributed_coreset_construction( nodes, t, no_of_centers ):\n",
    "    for node in list(set(nodes)):\n",
    "        print(\"Centers for local node \"+ str(node) +\" being found\")\n",
    "        node_dict[node].centers = pd.DataFrame(clustering_algo(node_dict[node].data, no_of_centers).cluster_centers_)    #this will contain centers stored in dataframe\n",
    "        node_dict[node].centers.columns = node_dict[node].data.columns\n",
    "        print(\"Cost of each data point in node \"+ str(node) +\" being found\")\n",
    "        node_dict[node].cost_of_each_data = get_cost( node_dict[node].data, node_dict[node].centers)  #comes back as pandas series\n",
    "        node_dict[node].cost_of_each_data.index = node_dict[node].data.index\n",
    "    for node in nodes:\n",
    "        print(\"passing cost from node \" + str(node) + \"to its neighbors\")\n",
    "        Message_Passing(node_dict[node].cost_of_each_data.sum(),node_dict[node].neighbors,node)\n",
    "    print(\"\\n\\nReverse message passing for costs begin\\n\")\n",
    "    for node in list(reversed(nodes)):\n",
    "        print(\"passing cost from node \" + str(node) + \"to its neighbors\")\n",
    "        Message_Passing(node_dict[node].cost_of_each_data.sum(),node_dict[node].neighbors,node)\n",
    "    print(\"Message passing of costs done\\n\\n\")\n",
    "    for node in list(set(nodes)):\n",
    "        print(\"calculating ti, m_p, S_i, w_q, w_b for node \" + str(node))\n",
    "        print (t)\n",
    "        t_i = int(math.floor((t*node_dict[node].message_received[node])/sum(node_dict[node].message_received.values())))\n",
    "        m_p = 2*(node_dict[node].cost_of_each_data + 1e-31)\n",
    "        m_p.index = node_dict[node].data.index\n",
    "        S_i = node_dict[node].data.sample(n=t_i,weights=m_p)\n",
    "        w_q = sum(node_dict[node].message_received.values())/(t*m_p[S_i.index])\n",
    "        w_b = []\n",
    "        for index, b in node_dict[node].centers.iterrows():\n",
    "            print(\"finding points belonging to center \" + str(index) + \"for node \" + str(node))\n",
    "            temp_cost = get_cost(node_dict[node].data,b)   #cost of each data point from b\n",
    "            temp_cost.index = node_dict[node].data.index\n",
    "            Pb = node_dict[node].data[temp_cost == node_dict[node].cost_of_each_data]  \n",
    "            #previous line measures euc dist of each point with center b and compares the values with min cost i.e.min d(p,X)over all x belonging to X\n",
    "            #Pb will be a dataframe\n",
    "            w_b.append(Pb.shape[0] - sum(w_q[S_i.index.intersection(Pb.index)]))\n",
    "        node_dict[node].message_received = {}\n",
    "        node_dict[node].set_local_coreset(pd.concat([S_i,node_dict[node].centers]))\n",
    "        node_dict[node].set_weights(w_q.append(pd.Series(w_b)))\n",
    "        print(\"local coreset for node \"+str(node)+\" created\\n\")\n",
    "    return\n"
   ]
  },
  {
   "cell_type": "code",
   "execution_count": 594,
   "metadata": {
    "collapsed": true
   },
   "outputs": [],
   "source": [
    "def distributed_clustering_on_graph(nodes, t, no_of_centers):\n",
    "    print (t)\n",
    "    print(\"Process begun\\n\")\n",
    "    distributed_coreset_construction( nodes, t, no_of_centers )\n",
    "    print(\"Coresets for all nodes created\\n\\n\")\n",
    "    for v_i in nodes:\n",
    "        print(\"Passing local coreset of node \"+str(v_i)+\" to its neighbors\")\n",
    "        Message_Passing(node_dict[v_i].local_coreset,node_dict[v_i].neighbors,v_i)\n",
    "    print(\"Forward passing of coresets done. \\n Reverse passing begins: \\n\")\n",
    "    for v_i in list(reversed(nodes)):\n",
    "        print(\"Passing coreset of node \" + str(v_i) + \" to its neighbors\")\n",
    "        Message_Passing(node_dict[v_i].local_coreset,node_dict[v_i].neighbors,v_i)\n",
    "    #for v_i in list(set(nodes)):    \n",
    "        #cluster_details = clustering_algo( pd.concat(list(node_dict[node].message_received.values())), no_of_centers )\n",
    "        #node_dict[node].set_X(cluster_details)\n",
    "    print(\"Passing of local coresets completed\\n\\nClustering of global coreset begins\")\n",
    "    cluster_details = clustering_algo( pd.concat(list(node_dict[v_i].message_received.values())), no_of_centers )\n",
    "    return(cluster_details)  #will return details about cluster generated"
   ]
  },
  {
   "cell_type": "code",
   "execution_count": null,
   "metadata": {
    "collapsed": false
   },
   "outputs": [
    {
     "name": "stdout",
     "output_type": "stream",
     "text": [
      "begin\n",
      "Graph created\n",
      "Node dictionary created\n",
      "dataframe read\n",
      "\n",
      "data partitioning done\n",
      "[  6804.  13608.  20412.  27216.  34020.  40824.  47628.  54432.]\n",
      "6804.0\n",
      "6804.0\n",
      "Process begun\n",
      "\n",
      "Centers for local node 0 being found\n",
      "Cost of each data point in node 0 being found\n",
      "Centers for local node 1 being found\n",
      "Cost of each data point in node 1 being found\n",
      "Centers for local node 2 being found\n",
      "Cost of each data point in node 2 being found\n",
      "Centers for local node 3 being found\n",
      "Cost of each data point in node 3 being found\n",
      "Centers for local node 4 being found\n",
      "Cost of each data point in node 4 being found\n",
      "Centers for local node 5 being found\n",
      "Cost of each data point in node 5 being found\n",
      "Centers for local node 6 being found\n",
      "Cost of each data point in node 6 being found\n",
      "Centers for local node 7 being found\n",
      "Cost of each data point in node 7 being found\n",
      "Centers for local node 8 being found\n",
      "Cost of each data point in node 8 being found\n",
      "Centers for local node 9 being found\n",
      "Cost of each data point in node 9 being found\n",
      "passing cost from node 0to its neighbors\n",
      "passing cost from node 8to its neighbors\n",
      "passing cost from node 9to its neighbors\n",
      "passing cost from node 3to its neighbors\n",
      "passing cost from node 1to its neighbors\n",
      "passing cost from node 4to its neighbors\n",
      "passing cost from node 2to its neighbors\n",
      "passing cost from node 4to its neighbors\n",
      "passing cost from node 5to its neighbors\n",
      "passing cost from node 4to its neighbors\n",
      "passing cost from node 6to its neighbors\n",
      "passing cost from node 7to its neighbors\n",
      "\n",
      "\n",
      "Reverse message passing for costs begin\n",
      "\n",
      "passing cost from node 7to its neighbors\n",
      "passing cost from node 6to its neighbors\n",
      "passing cost from node 4to its neighbors\n",
      "passing cost from node 5to its neighbors\n",
      "passing cost from node 4to its neighbors\n",
      "passing cost from node 2to its neighbors\n",
      "passing cost from node 4to its neighbors\n",
      "passing cost from node 1to its neighbors\n",
      "passing cost from node 3to its neighbors\n",
      "passing cost from node 9to its neighbors\n",
      "passing cost from node 8to its neighbors\n",
      "passing cost from node 0to its neighbors\n",
      "Message passing of costs done\n",
      "\n",
      "\n",
      "calculating ti, m_p, S_i, w_q, w_b for node 0\n",
      "6804.0\n",
      "finding points belonging to center 0for node 0\n",
      "finding points belonging to center 1for node 0\n",
      "finding points belonging to center 2for node 0\n",
      "finding points belonging to center 3for node 0\n",
      "finding points belonging to center 4for node 0\n",
      "finding points belonging to center 5for node 0\n",
      "finding points belonging to center 6for node 0\n",
      "finding points belonging to center 7for node 0\n",
      "finding points belonging to center 8for node 0\n",
      "finding points belonging to center 9for node 0\n",
      "local coreset for node 0 created\n",
      "\n",
      "calculating ti, m_p, S_i, w_q, w_b for node 1\n",
      "6804.0\n",
      "finding points belonging to center 0for node 1\n",
      "finding points belonging to center 1for node 1\n",
      "finding points belonging to center 2for node 1\n",
      "finding points belonging to center 3for node 1\n",
      "finding points belonging to center 4for node 1\n",
      "finding points belonging to center 5for node 1\n",
      "finding points belonging to center 6for node 1\n",
      "finding points belonging to center 7for node 1\n",
      "finding points belonging to center 8for node 1\n",
      "finding points belonging to center 9for node 1\n",
      "local coreset for node 1 created\n",
      "\n",
      "calculating ti, m_p, S_i, w_q, w_b for node 2\n",
      "6804.0\n",
      "finding points belonging to center 0for node 2\n",
      "finding points belonging to center 1for node 2\n",
      "finding points belonging to center 2for node 2\n",
      "finding points belonging to center 3for node 2\n",
      "finding points belonging to center 4for node 2\n",
      "finding points belonging to center 5for node 2\n",
      "finding points belonging to center 6for node 2\n",
      "finding points belonging to center 7for node 2\n",
      "finding points belonging to center 8for node 2\n",
      "finding points belonging to center 9for node 2\n",
      "local coreset for node 2 created\n",
      "\n",
      "calculating ti, m_p, S_i, w_q, w_b for node 3\n",
      "6804.0\n",
      "finding points belonging to center 0for node 3\n",
      "finding points belonging to center 1for node 3\n",
      "finding points belonging to center 2for node 3\n",
      "finding points belonging to center 3for node 3\n",
      "finding points belonging to center 4for node 3\n",
      "finding points belonging to center 5for node 3\n",
      "finding points belonging to center 6for node 3\n",
      "finding points belonging to center 7for node 3\n",
      "finding points belonging to center 8for node 3\n",
      "finding points belonging to center 9for node 3\n",
      "local coreset for node 3 created\n",
      "\n",
      "calculating ti, m_p, S_i, w_q, w_b for node 4\n",
      "6804.0\n",
      "finding points belonging to center 0for node 4\n",
      "finding points belonging to center 1for node 4\n",
      "finding points belonging to center 2for node 4\n",
      "finding points belonging to center 3for node 4\n",
      "finding points belonging to center 4for node 4\n",
      "finding points belonging to center 5for node 4\n",
      "finding points belonging to center 6for node 4\n",
      "finding points belonging to center 7for node 4\n",
      "finding points belonging to center 8for node 4\n",
      "finding points belonging to center 9for node 4\n",
      "local coreset for node 4 created\n",
      "\n",
      "calculating ti, m_p, S_i, w_q, w_b for node 5\n",
      "6804.0\n",
      "finding points belonging to center 0for node 5\n",
      "finding points belonging to center 1for node 5\n",
      "finding points belonging to center 2for node 5\n",
      "finding points belonging to center 3for node 5\n",
      "finding points belonging to center 4for node 5\n",
      "finding points belonging to center 5for node 5\n",
      "finding points belonging to center 6for node 5\n",
      "finding points belonging to center 7for node 5\n",
      "finding points belonging to center 8for node 5\n",
      "finding points belonging to center 9for node 5\n",
      "local coreset for node 5 created\n",
      "\n",
      "calculating ti, m_p, S_i, w_q, w_b for node 6\n",
      "6804.0\n",
      "finding points belonging to center 0for node 6\n",
      "finding points belonging to center 1for node 6\n",
      "finding points belonging to center 2for node 6\n",
      "finding points belonging to center 3for node 6\n",
      "finding points belonging to center 4for node 6\n",
      "finding points belonging to center 5for node 6\n",
      "finding points belonging to center 6for node 6\n",
      "finding points belonging to center 7for node 6\n",
      "finding points belonging to center 8for node 6\n",
      "finding points belonging to center 9for node 6\n",
      "local coreset for node 6 created\n",
      "\n",
      "calculating ti, m_p, S_i, w_q, w_b for node 7\n",
      "6804.0\n",
      "finding points belonging to center 0for node 7\n",
      "finding points belonging to center 1for node 7\n",
      "finding points belonging to center 2for node 7\n",
      "finding points belonging to center 3for node 7\n",
      "finding points belonging to center 4for node 7\n",
      "finding points belonging to center 5for node 7\n",
      "finding points belonging to center 6for node 7\n",
      "finding points belonging to center 7for node 7\n",
      "finding points belonging to center 8for node 7\n",
      "finding points belonging to center 9for node 7\n",
      "local coreset for node 7 created\n",
      "\n",
      "calculating ti, m_p, S_i, w_q, w_b for node 8\n",
      "6804.0\n",
      "finding points belonging to center 0for node 8\n",
      "finding points belonging to center 1for node 8\n",
      "finding points belonging to center 2for node 8\n",
      "finding points belonging to center 3for node 8\n",
      "finding points belonging to center 4for node 8\n",
      "finding points belonging to center 5for node 8\n",
      "finding points belonging to center 6for node 8\n",
      "finding points belonging to center 7for node 8\n",
      "finding points belonging to center 8for node 8\n",
      "finding points belonging to center 9for node 8\n",
      "local coreset for node 8 created\n",
      "\n",
      "calculating ti, m_p, S_i, w_q, w_b for node 9\n",
      "6804.0\n",
      "finding points belonging to center 0for node 9\n",
      "finding points belonging to center 1for node 9\n",
      "finding points belonging to center 2for node 9\n",
      "finding points belonging to center 3for node 9\n",
      "finding points belonging to center 4for node 9\n",
      "finding points belonging to center 5for node 9\n",
      "finding points belonging to center 6for node 9\n",
      "finding points belonging to center 7for node 9\n",
      "finding points belonging to center 8for node 9\n",
      "finding points belonging to center 9for node 9\n",
      "local coreset for node 9 created\n",
      "\n",
      "Coresets for all nodes created\n",
      "\n",
      "\n",
      "Passing local coreset of node 0 to its neighbors\n",
      "Passing local coreset of node 8 to its neighbors\n",
      "Passing local coreset of node 9 to its neighbors\n",
      "Passing local coreset of node 3 to its neighbors\n",
      "Passing local coreset of node 1 to its neighbors\n",
      "Passing local coreset of node 4 to its neighbors\n",
      "Passing local coreset of node 2 to its neighbors\n",
      "Passing local coreset of node 4 to its neighbors\n",
      "Passing local coreset of node 5 to its neighbors\n",
      "Passing local coreset of node 4 to its neighbors\n",
      "Passing local coreset of node 6 to its neighbors\n",
      "Passing local coreset of node 7 to its neighbors\n",
      "Forward passing of coresets done. \n",
      " Reverse passing begins: \n",
      "\n",
      "Passing coreset of node 7 to its neighbors\n",
      "Passing coreset of node 6 to its neighbors\n",
      "Passing coreset of node 4 to its neighbors\n",
      "Passing coreset of node 5 to its neighbors\n",
      "Passing coreset of node 4 to its neighbors\n",
      "Passing coreset of node 2 to its neighbors\n",
      "Passing coreset of node 4 to its neighbors\n",
      "Passing coreset of node 1 to its neighbors\n",
      "Passing coreset of node 3 to its neighbors\n",
      "Passing coreset of node 9 to its neighbors\n",
      "Passing coreset of node 8 to its neighbors\n",
      "Passing coreset of node 0 to its neighbors\n",
      "Passing of local coresets completed\n",
      "\n",
      "Clustering of global coreset begins\n",
      "72750474.0\n"
     ]
    }
   ],
   "source": [
    "print(\"begin\")\n",
    "G = create_random_graph(10,0.3)\n",
    "#G = create_preferential_graph(n,m)\n",
    "#G = create_grid_graph(n,m)\n",
    "#Seelect one of the three\n",
    "\n",
    "print(\"Graph created\")\n",
    "nodes = node_sequence(G)\n",
    "node_dict = {j:Node(G.neighbors(j),G.degree(j)) for j in G.nodes()}\n",
    "\n",
    "print(\"Node dictionary created\")\n",
    "\n",
    "df = pd.read_csv('ColorHistogram.csv', header = None)\n",
    "df = df.iloc[:,1:]\n",
    "print(\"dataframe read\")\n",
    "\n",
    "#uniform_partitioning(df,G.nodes())\n",
    "#similarity_partitioning(df,G.nodes())\n",
    "weighted_partitioning(df,G.nodes())\n",
    "#degree_partitioning(df,G.nodes())\n",
    "#Select one of the partitioning methods\n",
    "\n",
    "print(\"\\ndata partitioning done\")\n",
    "t =   np.arange(0.1,0.9,0.1)*df.shape[0]\n",
    "print (t)\n",
    "no_of_centers = 10\n",
    "\n",
    "for i in range(len(t)):\n",
    "    for node in G.nodes():\n",
    "        node_dict[node].centers = None                    #Holds the centers Bi\n",
    "        node_dict[node].local_coreset = None              #To store coreset, i.e. Si U Ai\n",
    "        node_dict[node].weights = None                    #To store the weight of points in local coreset Si U Ai\n",
    "        node_dict[node].message_received = {}\n",
    "        node_dict[node].X = None                          #To store the final centers\n",
    "        node_dict[node].cost_of_each_data = None\n",
    "    print (t[i])\n",
    "    \n",
    "    cluster_details  = distributed_clustering_on_graph(nodes, t[i], no_of_centers)\n",
    "    #This is to get the euclidean distance of the original data from the centers obtained from coresets\n",
    "    #pd.DataFrame(euclidean_distances( df , cluster_details.cluster_centers_ )).min(axis=1).sum()\n",
    "    #This is the communication cost\n",
    "    print (communication_cost)\n",
    "    c_cost[i]=communication_cost\n",
    "    #This is a centralised version of k means\n",
    "    centralised_cluster = KMeans(n_clusters=no_of_centers, init = 'random', random_state=0).fit(np.array(df))\n",
    "    #This is euclidean distance of original data from coreset centers divided by the euclidean distance of original data from centralised centers\n",
    "    k_means_cost[i]=pd.DataFrame(euclidean_distances( df , cluster_details.cluster_centers_ )).min(axis=1).sum()/pd.DataFrame(euclidean_distances( df , centralised_cluster.cluster_centers_)).min(axis=1).sum()"
   ]
  },
  {
   "cell_type": "code",
   "execution_count": 556,
   "metadata": {
    "collapsed": false
   },
   "outputs": [
    {
     "data": {
      "text/plain": [
       "(5L,)"
      ]
     },
     "execution_count": 556,
     "metadata": {},
     "output_type": "execute_result"
    }
   ],
   "source": [
    "c_cost = c_cost[3:]\n",
    "k_means_cost = k_means_cost[3:]\n",
    "c_cost.shape"
   ]
  },
  {
   "cell_type": "code",
   "execution_count": 596,
   "metadata": {
    "collapsed": false
   },
   "outputs": [
    {
     "data": {
      "image/png": "[encoded data removed]",
      "text/plain": [
       "<matplotlib.figure.Figure at 0x279f7ef0>"
      ]
     },
     "metadata": {},
     "output_type": "display_data"
    }
   ],
   "source": [
    "fig11 = plt.figure()\n",
    "plt.xlabel('Communication Cost (*10^6)')\n",
    "plt.plot(np.arange(len(c_cost)),list(k_means_cost),'*-b')\n",
    "\n",
    "plt.xticks(np.arange(len(c_cost)),list(np.round(c_cost/10**6,2)))\n",
    "plt.ylabel('K Means cost')\n",
    "plt.title('Color Histogram dataset, Random graph with weight Partitioning ')\n",
    "plt.show()\n",
    "fig11.savefig('C:/Users/Vipul Satone/IE 529/Distributed_kMeans-master/Project(2)/Letter/Color_random_weight.png')       \n"
   ]
  },
  {
   "cell_type": "code",
   "execution_count": null,
   "metadata": {
    "collapsed": true
   },
   "outputs": [],
   "source": [
    "data = pd.read_csv(\"G:/uiuc/igl data/ParkingData/SFpark_MeterPaymentData (1)/savingagain.csv\")"
   ]
  },
  {
   "cell_type": "code",
   "execution_count": 507,
   "metadata": {
    "collapsed": false
   },
   "outputs": [
    {
     "data": {
      "text/plain": [
       "(305, 2880)"
      ]
     },
     "execution_count": 507,
     "metadata": {},
     "output_type": "execute_result"
    }
   ],
   "source": [
    "df.shape"
   ]
  },
  {
   "cell_type": "code",
   "execution_count": null,
   "metadata": {
    "collapsed": false
   },
   "outputs": [],
   "source": [
    "#This is to get the euclidean distance of the original data from the centers obtained from coresets\n",
    "pd.DataFrame(euclidean_distances( df , cluster_details.cluster_centers_ )).min(axis=1).sum()\n",
    "#This is the communication cost\n",
    "communication_cost"
   ]
  },
  {
   "cell_type": "code",
   "execution_count": 115,
   "metadata": {
    "collapsed": true
   },
   "outputs": [],
   "source": [
    "#This is a centralised version of k means\n",
    "centralised_cluster = KMeans(n_clusters=no_of_centers, init = 'random', random_state=0).fit(np.array(df))"
   ]
  },
  {
   "cell_type": "code",
   "execution_count": 16,
   "metadata": {
    "collapsed": false
   },
   "outputs": [
    {
     "data": {
      "text/plain": [
       "1.0756943151436404"
      ]
     },
     "execution_count": 16,
     "metadata": {},
     "output_type": "execute_result"
    }
   ],
   "source": [
    "#This is euclidean distance of original data from coreset centers divided by the euclidean distance of original data from centralised centers\n",
    "pd.DataFrame(euclidean_distances( df , cluster_details.cluster_centers_ )).min(axis=1).sum()/pd.DataFrame(euclidean_distances( df , centralised_cluster.cluster_centers_)).min(axis=1).sum()"
   ]
  },
  {
   "cell_type": "code",
   "execution_count": 17,
   "metadata": {
    "collapsed": true
   },
   "outputs": [],
   "source": [
    "#Practise cell\n",
    "#just testing out anything that i feel like adding to the codes above\n",
    "\n",
    "import pandas as pd\n",
    "import numpy as np\n",
    "df = pd.DataFrame({'a':[1,2,3,4,5,6,7],'b':[3,2,3,4,1,4,5]})\n",
    "df1 = pd.DataFrame({'a':[2,3,4,1,4,6,2],'b':[1,2,4,2,5,6,3]})\n",
    "#df.index.get_loc(df.head())\n",
    "l = pd.DataFrame({'a':[1,2,3,4,5,6,7],'b':[3,2,3,4,1,4,5]}).min(axis=1)\n",
    "k = df.tail(1)\n",
    "df[np.sqrt(np.square(np.array(df) - np.array(k)).sum(1)) == pd.Series(np.array([0,2,3,4,5 , 7, 0]))]\n",
    "test_index=pd.Index(list('23154'))\n",
    "j=[1,2,3,4,5,6,7,8]\n",
    "1-np.array([j[x] for x in list(map(lambda x:test_index.get_loc(x),pd.Index(['1','2','3'])))])\n",
    "k=pd.DataFrame()\n",
    "s={1:df,2:df1}\n",
    "pd.concat(list(s.values()))\n",
    "import networkx as nx\n",
    "j = nx.erdos_renyi_graph(10,0.3)\n",
    "def f(): \n",
    "    global s\n",
    "    s+=1\n",
    "s = 0\n",
    "s = np.random.normal(0,1, 10)\n",
    "\n",
    "s = abs(s)"
   ]
  },
  {
   "cell_type": "code",
   "execution_count": 185,
   "metadata": {
    "collapsed": false
   },
   "outputs": [
    {
     "name": "stdout",
     "output_type": "stream",
     "text": [
      "\f",
      "\n"
     ]
    }
   ],
   "source": [
    "%clear\n"
   ]
  },
  {
   "cell_type": "code",
   "execution_count": null,
   "metadata": {
    "collapsed": true
   },
   "outputs": [],
   "source": []
  }
 ],
 "metadata": {
  "kernelspec": {
   "display_name": "Python [Root]",
   "language": "python",
   "name": "Python [Root]"
  },
  "language_info": {
   "codemirror_mode": {
    "name": "ipython",
    "version": 2
   },
   "file_extension": ".py",
   "mimetype": "text/x-python",
   "name": "python",
   "nbconvert_exporter": "python",
   "pygments_lexer": "ipython2",
   "version": "2.7.12"
  }
 },
 "nbformat": 4,
 "nbformat_minor": 2
}
